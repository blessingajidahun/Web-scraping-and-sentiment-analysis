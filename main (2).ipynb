{
 "cells": [
  {
   "cell_type": "code",
   "execution_count": 78,
   "id": "1e332d81",
   "metadata": {},
   "outputs": [
    {
     "name": "stderr",
     "output_type": "stream",
     "text": [
      "[nltk_data] Downloading package stopwords to\n",
      "[nltk_data]     C:\\Users\\adele\\AppData\\Roaming\\nltk_data...\n",
      "[nltk_data]   Package stopwords is already up-to-date!\n",
      "[nltk_data] Downloading package punkt to\n",
      "[nltk_data]     C:\\Users\\adele\\AppData\\Roaming\\nltk_data...\n",
      "[nltk_data]   Package punkt is already up-to-date!\n",
      "[nltk_data] Downloading package wordnet to\n",
      "[nltk_data]     C:\\Users\\adele\\AppData\\Roaming\\nltk_data...\n",
      "[nltk_data]   Package wordnet is already up-to-date!\n"
     ]
    },
    {
     "data": {
      "text/plain": [
       "True"
      ]
     },
     "execution_count": 78,
     "metadata": {},
     "output_type": "execute_result"
    }
   ],
   "source": [
    "\n",
    "from textblob import TextBlob\n",
    "import pandas as pd\n",
    "import re\n",
    "import string\n",
    "import nltk\n",
    "from nltk.tokenize import word_tokenize\n",
    "from nltk.corpus import stopwords\n",
    "from nltk.stem import WordNetLemmatizer\n",
    "import matplotlib.pyplot as plt\n",
    "import seaborn as sns\n",
    "import warnings\n",
    "warnings.filterwarnings(\"ignore\")\n",
    "# Download necessary NLTK resources\n",
    "nltk.download('stopwords')\n",
    "nltk.download('punkt')\n",
    "nltk.download('wordnet')\n"
   ]
  },
  {
   "cell_type": "code",
   "execution_count": 41,
   "id": "9bfe6073",
   "metadata": {},
   "outputs": [
    {
     "data": {
      "text/html": [
       "<div>\n",
       "<style scoped>\n",
       "    .dataframe tbody tr th:only-of-type {\n",
       "        vertical-align: middle;\n",
       "    }\n",
       "\n",
       "    .dataframe tbody tr th {\n",
       "        vertical-align: top;\n",
       "    }\n",
       "\n",
       "    .dataframe thead th {\n",
       "        text-align: right;\n",
       "    }\n",
       "</style>\n",
       "<table border=\"1\" class=\"dataframe\">\n",
       "  <thead>\n",
       "    <tr style=\"text-align: right;\">\n",
       "      <th></th>\n",
       "      <th>Title</th>\n",
       "      <th>Author</th>\n",
       "      <th>Date</th>\n",
       "      <th>Excerpt</th>\n",
       "    </tr>\n",
       "  </thead>\n",
       "  <tbody>\n",
       "    <tr>\n",
       "      <th>0</th>\n",
       "      <td>Ganduje leads APC's NWC to Buhari, says move t...</td>\n",
       "      <td>Adeola Ajakaiye</td>\n",
       "      <td>Apr 12, 2025</td>\n",
       "      <td>Abdullah Ganduje, national chairman of the rul...</td>\n",
       "    </tr>\n",
       "    <tr>\n",
       "      <th>1</th>\n",
       "      <td>US tightens visa interview rules for Nigerian ...</td>\n",
       "      <td>Ojochenemi Onje</td>\n",
       "      <td>Apr 12, 2025</td>\n",
       "      <td>The United States Mission in Nigeria has annou...</td>\n",
       "    </tr>\n",
       "    <tr>\n",
       "      <th>2</th>\n",
       "      <td>Former Super Eagles coach Christian Chukwu die...</td>\n",
       "      <td>Anthony Nlebem</td>\n",
       "      <td>Apr 12, 2025</td>\n",
       "      <td>Former Super Eagles coach and captain, Christi...</td>\n",
       "    </tr>\n",
       "    <tr>\n",
       "      <th>3</th>\n",
       "      <td>Economic, humanitarian strain deepen in Platea...</td>\n",
       "      <td>Nathaniel Gbaoron</td>\n",
       "      <td>Apr 12, 2025</td>\n",
       "      <td>The wave of renewed terror attacks sweeping ac...</td>\n",
       "    </tr>\n",
       "    <tr>\n",
       "      <th>4</th>\n",
       "      <td>Nigeria risks missing out on the Trump tariff ...</td>\n",
       "      <td>Oluwole Crowther</td>\n",
       "      <td>Apr 12, 2025</td>\n",
       "      <td>After all has been said and done about how Afr...</td>\n",
       "    </tr>\n",
       "  </tbody>\n",
       "</table>\n",
       "</div>"
      ],
      "text/plain": [
       "                                               Title             Author  \\\n",
       "0  Ganduje leads APC's NWC to Buhari, says move t...    Adeola Ajakaiye   \n",
       "1  US tightens visa interview rules for Nigerian ...    Ojochenemi Onje   \n",
       "2  Former Super Eagles coach Christian Chukwu die...     Anthony Nlebem   \n",
       "3  Economic, humanitarian strain deepen in Platea...  Nathaniel Gbaoron   \n",
       "4  Nigeria risks missing out on the Trump tariff ...   Oluwole Crowther   \n",
       "\n",
       "           Date                                            Excerpt  \n",
       "0  Apr 12, 2025  Abdullah Ganduje, national chairman of the rul...  \n",
       "1  Apr 12, 2025  The United States Mission in Nigeria has annou...  \n",
       "2  Apr 12, 2025  Former Super Eagles coach and captain, Christi...  \n",
       "3  Apr 12, 2025  The wave of renewed terror attacks sweeping ac...  \n",
       "4  Apr 12, 2025  After all has been said and done about how Afr...  "
      ]
     },
     "execution_count": 41,
     "metadata": {},
     "output_type": "execute_result"
    }
   ],
   "source": [
    "df = pd.read_csv('businessdaynews.csv')\n",
    "df.head()"
   ]
  },
  {
   "cell_type": "code",
   "execution_count": 42,
   "id": "825cea56",
   "metadata": {},
   "outputs": [
    {
     "data": {
      "text/plain": [
       "(7760, 4)"
      ]
     },
     "execution_count": 42,
     "metadata": {},
     "output_type": "execute_result"
    }
   ],
   "source": [
    "df.shape"
   ]
  },
  {
   "cell_type": "code",
   "execution_count": 47,
   "id": "5b01cacd",
   "metadata": {},
   "outputs": [
    {
     "data": {
      "text/plain": [
       "Title                                                                                   Author                Date          Excerpt                                                                                                                                             \n",
       "‘World’s most opaque company’ stench trails NNPC secret deals                           Oladehinde Oladipo    Jul 16, 2024  The non-publication of financial accounts and refusal to disclose contracts signed with oil companies may be justifying public sentiments that...       1\n",
       "\"Reckless, unconstitutional\", Obi condemns Rivers' emergency rule, asks NASS to resist  Taofeek Oyedokun      Mar 19, 2025  Peter Obi, the presidential candidate of the Labour Party in the last general elections, has strongly condemned President Bola Tinubu’s...              1\n",
       "#EndSARS to cost Nigerian insurers N20bn                                                Modestus Anaesoronye  Jun 30, 2021  The looting and vandalism that followed the #EndSARS protest that engulfed Nigeria in 2020 are estimated to cost the nation’s...                        1\n",
       "$10bn annual food import bill is new threat to Nigeria’s economic recovery              BusinessDay           Nov 20, 2021  Nigeria’s flagging economic recovery is facing a new threat after it emerged that Africa’s most populous nation may spend a...                          1\n",
       "$461m investment gap slows Nigeria’s internet coverage                                  Temitayo Jaiyeola     Apr 15, 2024  Nigeria’s broadband penetration fell to 42.53 percent as of January, and subscriptions stood at 92.19 million, spotlighting the huge deficit...         1\n",
       "                                                                                                                                                                                                                                                                                   ..\n",
       "2023: Aisha Buhari wants women as running mates to candidates                           BusinessDay           Apr 24, 2022  The first lady, Aisha Buhari, has urged political parties to always consider women as running mates to candidates contesting elections...               1\n",
       "2023 election: I almost gave up, but for Masari - Tinubu                                Anthony Ailemen       Mar 30, 2025  …Says “Nigeria reached a point of no return on fuel subsidy”   President Bola Tinubu on Saturday night recalled how...                                  1\n",
       "2021 IN REVIEW: How inflation, exchange rate stalled real estate sector’s growth        Chuka Uroko           Dec 24, 2021  After the gloom and inertia that defined the real estate sector in 2020 due to the negative impact of COVID-19,...                                      1\n",
       "20 years after, PIB now awaits Buhari's assent                                          Oladehinde Oladipo    Jul 01, 2021  After missing at least 20 deadlines since it was first introduced into the National Assembly in September 2008, Nigeria’s lawmakers...                  1\n",
       "20 times the PIB missed proposed deadlines                                              Oladehinde Oladipo    Jul 01, 2021  The Petroleum Industry Bill (PIB), supposed to rewrite Nigeria’s decades-old relationship with its foreign oil partners and alter everything from...    1\n",
       "Name: count, Length: 1358, dtype: int64"
      ]
     },
     "execution_count": 47,
     "metadata": {},
     "output_type": "execute_result"
    }
   ],
   "source": [
    "df.value_counts()"
   ]
  },
  {
   "cell_type": "code",
   "execution_count": 48,
   "id": "9e7db8b0",
   "metadata": {},
   "outputs": [
    {
     "name": "stdout",
     "output_type": "stream",
     "text": [
      "<class 'pandas.core.frame.DataFrame'>\n",
      "RangeIndex: 7760 entries, 0 to 7759\n",
      "Data columns (total 4 columns):\n",
      " #   Column   Non-Null Count  Dtype \n",
      "---  ------   --------------  ----- \n",
      " 0   Title    7760 non-null   object\n",
      " 1   Author   1358 non-null   object\n",
      " 2   Date     7760 non-null   object\n",
      " 3   Excerpt  7760 non-null   object\n",
      "dtypes: object(4)\n",
      "memory usage: 242.6+ KB\n"
     ]
    }
   ],
   "source": [
    "df.info()"
   ]
  },
  {
   "cell_type": "code",
   "execution_count": 49,
   "id": "ac3cd7b8",
   "metadata": {},
   "outputs": [
    {
     "data": {
      "text/plain": [
       "Title         0\n",
       "Author     6402\n",
       "Date          0\n",
       "Excerpt       0\n",
       "dtype: int64"
      ]
     },
     "execution_count": 49,
     "metadata": {},
     "output_type": "execute_result"
    }
   ],
   "source": [
    "df.isna().sum()"
   ]
  },
  {
   "cell_type": "code",
   "execution_count": 52,
   "id": "30895873",
   "metadata": {},
   "outputs": [
    {
     "data": {
      "text/plain": [
       "np.int64(0)"
      ]
     },
     "execution_count": 52,
     "metadata": {},
     "output_type": "execute_result"
    }
   ],
   "source": [
    "df.duplicated().sum()\n"
   ]
  },
  {
   "cell_type": "code",
   "execution_count": null,
   "id": "e4b6b8de",
   "metadata": {},
   "outputs": [],
   "source": [
    "# Create a new column for Cleaned Excerpt and convert the texts to lowercase\n",
    "df['Cleaned_Excerpt'] = df['Excerpt'].str.lower()"
   ]
  },
  {
   "cell_type": "code",
   "execution_count": 59,
   "id": "fe645ee9",
   "metadata": {},
   "outputs": [],
   "source": [
    "# Remove punctuations\n",
    "punc = string.punctuation\n",
    "df['Cleaned_Excerpt'] = df['Cleaned_Excerpt'].replace(\"[{}]\".format(punc), '', regex=True)"
   ]
  },
  {
   "cell_type": "code",
   "execution_count": 64,
   "id": "1c42b53f",
   "metadata": {},
   "outputs": [],
   "source": [
    "# Tokenize the text\n",
    "df['Excerpt_tokens'] = df['Cleaned_Excerpt'].apply(word_tokenize)"
   ]
  },
  {
   "cell_type": "code",
   "execution_count": 69,
   "id": "e6e2795f",
   "metadata": {},
   "outputs": [],
   "source": [
    "# Remove the stopwords\n",
    "stop_words = set(stopwords.words('english'))\n",
    "df['Excerpt_tokens'] = df['Excerpt_tokens'].apply(lambda x: [word for word in x if word not in stop_words])"
   ]
  },
  {
   "cell_type": "code",
   "execution_count": 71,
   "id": "6cf0e4ab",
   "metadata": {},
   "outputs": [],
   "source": [
    "# Lemmatize the words\n",
    "lemmatizer = WordNetLemmatizer()\n",
    "df['Excerpt_tokens'] = df['Excerpt_tokens'].apply(lambda x: [lemmatizer.lemmatize(word) for word in x])"
   ]
  },
  {
   "cell_type": "code",
   "execution_count": 72,
   "id": "21a0876a",
   "metadata": {},
   "outputs": [
    {
     "data": {
      "text/html": [
       "<div>\n",
       "<style scoped>\n",
       "    .dataframe tbody tr th:only-of-type {\n",
       "        vertical-align: middle;\n",
       "    }\n",
       "\n",
       "    .dataframe tbody tr th {\n",
       "        vertical-align: top;\n",
       "    }\n",
       "\n",
       "    .dataframe thead th {\n",
       "        text-align: right;\n",
       "    }\n",
       "</style>\n",
       "<table border=\"1\" class=\"dataframe\">\n",
       "  <thead>\n",
       "    <tr style=\"text-align: right;\">\n",
       "      <th></th>\n",
       "      <th>Title</th>\n",
       "      <th>Author</th>\n",
       "      <th>Date</th>\n",
       "      <th>Excerpt</th>\n",
       "      <th>Cleaned_Excerpt</th>\n",
       "      <th>Excerpt_tokens</th>\n",
       "    </tr>\n",
       "  </thead>\n",
       "  <tbody>\n",
       "    <tr>\n",
       "      <th>0</th>\n",
       "      <td>Ganduje leads APC's NWC to Buhari, says move t...</td>\n",
       "      <td>Adeola Ajakaiye</td>\n",
       "      <td>Apr 12, 2025</td>\n",
       "      <td>Abdullah Ganduje, national chairman of the rul...</td>\n",
       "      <td>abdullah ganduje national chairman of the ruli...</td>\n",
       "      <td>[abdullah, ganduje, national, chairman, ruling...</td>\n",
       "    </tr>\n",
       "    <tr>\n",
       "      <th>1</th>\n",
       "      <td>US tightens visa interview rules for Nigerian ...</td>\n",
       "      <td>Ojochenemi Onje</td>\n",
       "      <td>Apr 12, 2025</td>\n",
       "      <td>The United States Mission in Nigeria has annou...</td>\n",
       "      <td>the united states mission in nigeria has annou...</td>\n",
       "      <td>[united, state, mission, nigeria, announced, n...</td>\n",
       "    </tr>\n",
       "    <tr>\n",
       "      <th>2</th>\n",
       "      <td>Former Super Eagles coach Christian Chukwu die...</td>\n",
       "      <td>Anthony Nlebem</td>\n",
       "      <td>Apr 12, 2025</td>\n",
       "      <td>Former Super Eagles coach and captain, Christi...</td>\n",
       "      <td>former super eagles coach and captain christia...</td>\n",
       "      <td>[former, super, eagle, coach, captain, christi...</td>\n",
       "    </tr>\n",
       "    <tr>\n",
       "      <th>3</th>\n",
       "      <td>Economic, humanitarian strain deepen in Platea...</td>\n",
       "      <td>Nathaniel Gbaoron</td>\n",
       "      <td>Apr 12, 2025</td>\n",
       "      <td>The wave of renewed terror attacks sweeping ac...</td>\n",
       "      <td>the wave of renewed terror attacks sweeping ac...</td>\n",
       "      <td>[wave, renewed, terror, attack, sweeping, acro...</td>\n",
       "    </tr>\n",
       "    <tr>\n",
       "      <th>4</th>\n",
       "      <td>Nigeria risks missing out on the Trump tariff ...</td>\n",
       "      <td>Oluwole Crowther</td>\n",
       "      <td>Apr 12, 2025</td>\n",
       "      <td>After all has been said and done about how Afr...</td>\n",
       "      <td>after all has been said and done about how afr...</td>\n",
       "      <td>[said, done, african, country, capitalise, tru...</td>\n",
       "    </tr>\n",
       "  </tbody>\n",
       "</table>\n",
       "</div>"
      ],
      "text/plain": [
       "                                               Title             Author  \\\n",
       "0  Ganduje leads APC's NWC to Buhari, says move t...    Adeola Ajakaiye   \n",
       "1  US tightens visa interview rules for Nigerian ...    Ojochenemi Onje   \n",
       "2  Former Super Eagles coach Christian Chukwu die...     Anthony Nlebem   \n",
       "3  Economic, humanitarian strain deepen in Platea...  Nathaniel Gbaoron   \n",
       "4  Nigeria risks missing out on the Trump tariff ...   Oluwole Crowther   \n",
       "\n",
       "           Date                                            Excerpt  \\\n",
       "0  Apr 12, 2025  Abdullah Ganduje, national chairman of the rul...   \n",
       "1  Apr 12, 2025  The United States Mission in Nigeria has annou...   \n",
       "2  Apr 12, 2025  Former Super Eagles coach and captain, Christi...   \n",
       "3  Apr 12, 2025  The wave of renewed terror attacks sweeping ac...   \n",
       "4  Apr 12, 2025  After all has been said and done about how Afr...   \n",
       "\n",
       "                                     Cleaned_Excerpt  \\\n",
       "0  abdullah ganduje national chairman of the ruli...   \n",
       "1  the united states mission in nigeria has annou...   \n",
       "2  former super eagles coach and captain christia...   \n",
       "3  the wave of renewed terror attacks sweeping ac...   \n",
       "4  after all has been said and done about how afr...   \n",
       "\n",
       "                                      Excerpt_tokens  \n",
       "0  [abdullah, ganduje, national, chairman, ruling...  \n",
       "1  [united, state, mission, nigeria, announced, n...  \n",
       "2  [former, super, eagle, coach, captain, christi...  \n",
       "3  [wave, renewed, terror, attack, sweeping, acro...  \n",
       "4  [said, done, african, country, capitalise, tru...  "
      ]
     },
     "execution_count": 72,
     "metadata": {},
     "output_type": "execute_result"
    }
   ],
   "source": [
    "df.head()"
   ]
  },
  {
   "cell_type": "code",
   "execution_count": 75,
   "id": "051e0586",
   "metadata": {},
   "outputs": [],
   "source": [
    "# Apply TextBlob for sentiment analysis\n",
    "df['Blob'] = df['Excerpt'].apply(TextBlob)\n",
    "df['Polarity'] = df['Blob'].apply(lambda x: x.sentiment.polarity)\n",
    "df['Sentiment'] = df['Polarity'].apply(lambda x: 'positive' if x > 0 else ('negative' if x < 0 else 'neutral'))"
   ]
  },
  {
   "cell_type": "code",
   "execution_count": 76,
   "id": "92af607d",
   "metadata": {},
   "outputs": [
    {
     "data": {
      "text/html": [
       "<div>\n",
       "<style scoped>\n",
       "    .dataframe tbody tr th:only-of-type {\n",
       "        vertical-align: middle;\n",
       "    }\n",
       "\n",
       "    .dataframe tbody tr th {\n",
       "        vertical-align: top;\n",
       "    }\n",
       "\n",
       "    .dataframe thead th {\n",
       "        text-align: right;\n",
       "    }\n",
       "</style>\n",
       "<table border=\"1\" class=\"dataframe\">\n",
       "  <thead>\n",
       "    <tr style=\"text-align: right;\">\n",
       "      <th></th>\n",
       "      <th>Title</th>\n",
       "      <th>Author</th>\n",
       "      <th>Date</th>\n",
       "      <th>Excerpt</th>\n",
       "      <th>Cleaned_Excerpt</th>\n",
       "      <th>Excerpt_tokens</th>\n",
       "      <th>Blob</th>\n",
       "      <th>Polarity</th>\n",
       "      <th>Sentiment</th>\n",
       "    </tr>\n",
       "  </thead>\n",
       "  <tbody>\n",
       "    <tr>\n",
       "      <th>0</th>\n",
       "      <td>Ganduje leads APC's NWC to Buhari, says move t...</td>\n",
       "      <td>Adeola Ajakaiye</td>\n",
       "      <td>Apr 12, 2025</td>\n",
       "      <td>Abdullah Ganduje, national chairman of the rul...</td>\n",
       "      <td>abdullah ganduje national chairman of the ruli...</td>\n",
       "      <td>[abdullah, ganduje, national, chairman, ruling...</td>\n",
       "      <td>(A, b, d, u, l, l, a, h,  , G, a, n, d, u, j, ...</td>\n",
       "      <td>0.000000</td>\n",
       "      <td>neutral</td>\n",
       "    </tr>\n",
       "    <tr>\n",
       "      <th>1</th>\n",
       "      <td>US tightens visa interview rules for Nigerian ...</td>\n",
       "      <td>Ojochenemi Onje</td>\n",
       "      <td>Apr 12, 2025</td>\n",
       "      <td>The United States Mission in Nigeria has annou...</td>\n",
       "      <td>the united states mission in nigeria has annou...</td>\n",
       "      <td>[united, state, mission, nigeria, announced, n...</td>\n",
       "      <td>(T, h, e,  , U, n, i, t, e, d,  , S, t, a, t, ...</td>\n",
       "      <td>0.136364</td>\n",
       "      <td>positive</td>\n",
       "    </tr>\n",
       "    <tr>\n",
       "      <th>2</th>\n",
       "      <td>Former Super Eagles coach Christian Chukwu die...</td>\n",
       "      <td>Anthony Nlebem</td>\n",
       "      <td>Apr 12, 2025</td>\n",
       "      <td>Former Super Eagles coach and captain, Christi...</td>\n",
       "      <td>former super eagles coach and captain christia...</td>\n",
       "      <td>[former, super, eagle, coach, captain, christi...</td>\n",
       "      <td>(F, o, r, m, e, r,  , S, u, p, e, r,  , E, a, ...</td>\n",
       "      <td>0.083333</td>\n",
       "      <td>positive</td>\n",
       "    </tr>\n",
       "    <tr>\n",
       "      <th>3</th>\n",
       "      <td>Economic, humanitarian strain deepen in Platea...</td>\n",
       "      <td>Nathaniel Gbaoron</td>\n",
       "      <td>Apr 12, 2025</td>\n",
       "      <td>The wave of renewed terror attacks sweeping ac...</td>\n",
       "      <td>the wave of renewed terror attacks sweeping ac...</td>\n",
       "      <td>[wave, renewed, terror, attack, sweeping, acro...</td>\n",
       "      <td>(T, h, e,  , w, a, v, e,  , o, f,  , r, e, n, ...</td>\n",
       "      <td>0.166667</td>\n",
       "      <td>positive</td>\n",
       "    </tr>\n",
       "    <tr>\n",
       "      <th>4</th>\n",
       "      <td>Nigeria risks missing out on the Trump tariff ...</td>\n",
       "      <td>Oluwole Crowther</td>\n",
       "      <td>Apr 12, 2025</td>\n",
       "      <td>After all has been said and done about how Afr...</td>\n",
       "      <td>after all has been said and done about how afr...</td>\n",
       "      <td>[said, done, african, country, capitalise, tru...</td>\n",
       "      <td>(A, f, t, e, r,  , a, l, l,  , h, a, s,  , b, ...</td>\n",
       "      <td>0.000000</td>\n",
       "      <td>neutral</td>\n",
       "    </tr>\n",
       "  </tbody>\n",
       "</table>\n",
       "</div>"
      ],
      "text/plain": [
       "                                               Title             Author  \\\n",
       "0  Ganduje leads APC's NWC to Buhari, says move t...    Adeola Ajakaiye   \n",
       "1  US tightens visa interview rules for Nigerian ...    Ojochenemi Onje   \n",
       "2  Former Super Eagles coach Christian Chukwu die...     Anthony Nlebem   \n",
       "3  Economic, humanitarian strain deepen in Platea...  Nathaniel Gbaoron   \n",
       "4  Nigeria risks missing out on the Trump tariff ...   Oluwole Crowther   \n",
       "\n",
       "           Date                                            Excerpt  \\\n",
       "0  Apr 12, 2025  Abdullah Ganduje, national chairman of the rul...   \n",
       "1  Apr 12, 2025  The United States Mission in Nigeria has annou...   \n",
       "2  Apr 12, 2025  Former Super Eagles coach and captain, Christi...   \n",
       "3  Apr 12, 2025  The wave of renewed terror attacks sweeping ac...   \n",
       "4  Apr 12, 2025  After all has been said and done about how Afr...   \n",
       "\n",
       "                                     Cleaned_Excerpt  \\\n",
       "0  abdullah ganduje national chairman of the ruli...   \n",
       "1  the united states mission in nigeria has annou...   \n",
       "2  former super eagles coach and captain christia...   \n",
       "3  the wave of renewed terror attacks sweeping ac...   \n",
       "4  after all has been said and done about how afr...   \n",
       "\n",
       "                                      Excerpt_tokens  \\\n",
       "0  [abdullah, ganduje, national, chairman, ruling...   \n",
       "1  [united, state, mission, nigeria, announced, n...   \n",
       "2  [former, super, eagle, coach, captain, christi...   \n",
       "3  [wave, renewed, terror, attack, sweeping, acro...   \n",
       "4  [said, done, african, country, capitalise, tru...   \n",
       "\n",
       "                                                Blob  Polarity Sentiment  \n",
       "0  (A, b, d, u, l, l, a, h,  , G, a, n, d, u, j, ...  0.000000   neutral  \n",
       "1  (T, h, e,  , U, n, i, t, e, d,  , S, t, a, t, ...  0.136364  positive  \n",
       "2  (F, o, r, m, e, r,  , S, u, p, e, r,  , E, a, ...  0.083333  positive  \n",
       "3  (T, h, e,  , w, a, v, e,  , o, f,  , r, e, n, ...  0.166667  positive  \n",
       "4  (A, f, t, e, r,  , a, l, l,  , h, a, s,  , b, ...  0.000000   neutral  "
      ]
     },
     "execution_count": 76,
     "metadata": {},
     "output_type": "execute_result"
    }
   ],
   "source": [
    "df.head()"
   ]
  },
  {
   "cell_type": "code",
   "execution_count": null,
   "id": "af6ac978",
   "metadata": {},
   "outputs": [
    {
     "data": {
      "text/plain": [
       "Sentiment\n",
       "positive    3038\n",
       "neutral     3007\n",
       "negative    1715\n",
       "Name: count, dtype: int64"
      ]
     },
     "execution_count": 77,
     "metadata": {},
     "output_type": "execute_result"
    }
   ],
   "source": [
    "# Check the distribution of sentiments\n",
    "df['Sentiment'].value_counts()"
   ]
  },
  {
   "cell_type": "code",
   "execution_count": null,
   "id": "6f6e9018",
   "metadata": {},
   "outputs": [
    {
     "data": {
      "image/png": "[encoded data removed]",
      "text/plain": [
       "<Figure size 500x500 with 1 Axes>"
      ]
     },
     "metadata": {},
     "output_type": "display_data"
    }
   ],
   "source": [
    "# Visualize the sentiment distribution\n",
    "sentiment_counts = df['Sentiment'].value_counts()\n",
    "colors = ['skyblue', 'lightcoral', 'lightgreen']\n",
    "\n",
    "plt.figure(figsize=(5, 5))\n",
    "plt.pie(sentiment_counts, labels=sentiment_counts.index, autopct='%1.1f%%', colors=colors)\n",
    "plt.title('Sentiment Distribution')\n",
    "plt.show()\n"
   ]
  }
 ],
 "metadata": {
  "kernelspec": {
   "display_name": "venv",
   "language": "python",
   "name": "python3"
  },
  "language_info": {
   "codemirror_mode": {
    "name": "ipython",
    "version": 3
   },
   "file_extension": ".py",
   "mimetype": "text/x-python",
   "name": "python",
   "nbconvert_exporter": "python",
   "pygments_lexer": "ipython3",
   "version": "3.10.9"
  }
 },
 "nbformat": 4,
 "nbformat_minor": 5
}
